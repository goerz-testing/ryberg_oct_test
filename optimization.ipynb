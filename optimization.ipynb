{
 "cells": [
  {
   "cell_type": "code",
   "execution_count": 4,
   "metadata": {
    "ExecuteTime": {
     "end_time": "2020-09-18T03:41:56.142856Z",
     "start_time": "2020-09-18T03:41:56.138301Z"
    }
   },
   "outputs": [],
   "source": [
    "import numpy as np"
   ]
  },
  {
   "cell_type": "code",
   "execution_count": 10,
   "metadata": {
    "ExecuteTime": {
     "end_time": "2020-09-18T03:44:24.596713Z",
     "start_time": "2020-09-18T03:44:24.484821Z"
    }
   },
   "outputs": [],
   "source": [
    "import krotov"
   ]
  },
  {
   "cell_type": "code",
   "execution_count": 15,
   "metadata": {
    "ExecuteTime": {
     "end_time": "2020-09-18T03:45:38.372279Z",
     "start_time": "2020-09-18T03:45:38.366230Z"
    }
   },
   "outputs": [],
   "source": [
    "import qutip"
   ]
  },
  {
   "cell_type": "code",
   "execution_count": 11,
   "metadata": {
    "ExecuteTime": {
     "end_time": "2020-09-18T03:44:42.254258Z",
     "start_time": "2020-09-18T03:44:42.251080Z"
    }
   },
   "outputs": [],
   "source": [
    "from src.ham import ryd2_hamiltonian, ket"
   ]
  },
  {
   "cell_type": "code",
   "execution_count": 6,
   "metadata": {
    "ExecuteTime": {
     "end_time": "2020-09-18T03:41:57.572876Z",
     "start_time": "2020-09-18T03:41:57.568883Z"
    }
   },
   "outputs": [],
   "source": [
    "GHz = 2 * np.pi\n",
    "MHz = 1e-3 * GHz\n",
    "ns = 1"
   ]
  },
  {
   "cell_type": "code",
   "execution_count": 8,
   "metadata": {
    "ExecuteTime": {
     "end_time": "2020-09-18T03:44:07.723558Z",
     "start_time": "2020-09-18T03:44:07.712093Z"
    }
   },
   "outputs": [],
   "source": [
    "H = ryd2_hamiltonian(E1=(9.1 * GHz), Δ1=(1.273 * GHz), Δ2=0, u=(57.26 * MHz), Ω_B_left=Ω_B_left, Ω_B_right=Ω_B_right, Ω_R_left=Ω_R_left, Ω_R_right=Ω_R_right)"
   ]
  },
  {
   "cell_type": "code",
   "execution_count": 12,
   "metadata": {
    "ExecuteTime": {
     "end_time": "2020-09-18T03:45:03.023911Z",
     "start_time": "2020-09-18T03:45:03.016399Z"
    }
   },
   "outputs": [],
   "source": [
    "basis_states = [ket(label) for label in ('00', '01', '10', '11')]"
   ]
  },
  {
   "cell_type": "code",
   "execution_count": 22,
   "metadata": {
    "ExecuteTime": {
     "end_time": "2020-09-18T03:48:32.609090Z",
     "start_time": "2020-09-18T03:48:32.600670Z"
    }
   },
   "outputs": [],
   "source": [
    "cphase = qutip.qip.operations.cphase(np.pi)"
   ]
  },
  {
   "cell_type": "code",
   "execution_count": 23,
   "metadata": {
    "ExecuteTime": {
     "end_time": "2020-09-18T03:48:35.574046Z",
     "start_time": "2020-09-18T03:48:35.559658Z"
    }
   },
   "outputs": [
    {
     "data": {
      "text/latex": [
       "Quantum object: dims = [[2, 2], [2, 2]], shape = (4, 4), type = oper, isherm = True\\begin{equation*}\\left(\\begin{array}{*{11}c}1.0 & 0.0 & 0.0 & 0.0\\\\0.0 & 1.0 & 0.0 & 0.0\\\\0.0 & 0.0 & 1.0 & 0.0\\\\0.0 & 0.0 & 0.0 & -1.0\\\\\\end{array}\\right)\\end{equation*}"
      ],
      "text/plain": [
       "Quantum object: dims = [[2, 2], [2, 2]], shape = (4, 4), type = oper, isherm = True\n",
       "Qobj data =\n",
       "[[ 1.  0.  0.  0.]\n",
       " [ 0.  1.  0.  0.]\n",
       " [ 0.  0.  1.  0.]\n",
       " [ 0.  0.  0. -1.]]"
      ]
     },
     "execution_count": 23,
     "metadata": {},
     "output_type": "execute_result"
    }
   ],
   "source": [
    "cphase"
   ]
  },
  {
   "cell_type": "code",
   "execution_count": 24,
   "metadata": {
    "ExecuteTime": {
     "end_time": "2020-09-18T03:49:09.352085Z",
     "start_time": "2020-09-18T03:49:09.328268Z"
    }
   },
   "outputs": [],
   "source": [
    "objectives = krotov.gate_objectives(basis_states, cphase, H)"
   ]
  },
  {
   "cell_type": "code",
   "execution_count": 25,
   "metadata": {
    "ExecuteTime": {
     "end_time": "2020-09-18T03:49:13.993533Z",
     "start_time": "2020-09-18T03:49:13.983028Z"
    }
   },
   "outputs": [
    {
     "data": {
      "text/plain": [
       "[Objective[|Ψ₀(4⊗4)⟩ to |Ψ₀(4⊗4)⟩ via [H₀[4⊗4,4⊗4], [H₁[4⊗4,4⊗4], u₁(t)], [H₂[4⊗4,4⊗4], u₂(t)], [H₃[4⊗4,4⊗4], u₁(t)], [H₄[4⊗4,4⊗4], u₁(t)]]],\n",
       " Objective[|Ψ₁(4⊗4)⟩ to |Ψ₁(4⊗4)⟩ via [H₀[4⊗4,4⊗4], [H₁[4⊗4,4⊗4], u₁(t)], [H₂[4⊗4,4⊗4], u₂(t)], [H₃[4⊗4,4⊗4], u₁(t)], [H₄[4⊗4,4⊗4], u₁(t)]]],\n",
       " Objective[|Ψ₂(4⊗4)⟩ to |Ψ₂(4⊗4)⟩ via [H₀[4⊗4,4⊗4], [H₁[4⊗4,4⊗4], u₁(t)], [H₂[4⊗4,4⊗4], u₂(t)], [H₃[4⊗4,4⊗4], u₁(t)], [H₄[4⊗4,4⊗4], u₁(t)]]],\n",
       " Objective[|Ψ₃(4⊗4)⟩ to |Ψ₄(4⊗4)⟩ via [H₀[4⊗4,4⊗4], [H₁[4⊗4,4⊗4], u₁(t)], [H₂[4⊗4,4⊗4], u₂(t)], [H₃[4⊗4,4⊗4], u₁(t)], [H₄[4⊗4,4⊗4], u₁(t)]]]]"
      ]
     },
     "execution_count": 25,
     "metadata": {},
     "output_type": "execute_result"
    }
   ],
   "source": [
    "objectives"
   ]
  },
  {
   "cell_type": "code",
   "execution_count": 31,
   "metadata": {
    "ExecuteTime": {
     "end_time": "2020-09-18T03:50:48.076769Z",
     "start_time": "2020-09-18T03:50:48.071807Z"
    }
   },
   "outputs": [],
   "source": [
    "T = 800"
   ]
  },
  {
   "cell_type": "code",
   "execution_count": 32,
   "metadata": {
    "ExecuteTime": {
     "end_time": "2020-09-18T03:50:48.368640Z",
     "start_time": "2020-09-18T03:50:48.362937Z"
    }
   },
   "outputs": [],
   "source": [
    "tlist = np.linspace(0, T, 1000)"
   ]
  },
  {
   "cell_type": "code",
   "execution_count": 33,
   "metadata": {
    "ExecuteTime": {
     "end_time": "2020-09-18T03:51:09.326736Z",
     "start_time": "2020-09-18T03:50:51.040930Z"
    }
   },
   "outputs": [
    {
     "data": {
      "text/plain": [
       "Result object with sesolve data.\n",
       "--------------------------------\n",
       "states = True\n",
       "num_collapse = 0"
      ]
     },
     "execution_count": 33,
     "metadata": {},
     "output_type": "execute_result"
    }
   ],
   "source": [
    "objectives[0].mesolve(tlist)"
   ]
  },
  {
   "cell_type": "code",
   "execution_count": 34,
   "metadata": {
    "ExecuteTime": {
     "end_time": "2020-09-18T03:53:31.467833Z",
     "start_time": "2020-09-18T03:53:31.457888Z"
    }
   },
   "outputs": [],
   "source": [
    "def update_shape(t):\n",
    "    return krotov.shapes.flattop(t, 0, T, t_rise=0.1*T)"
   ]
  },
  {
   "cell_type": "code",
   "execution_count": 35,
   "metadata": {
    "ExecuteTime": {
     "end_time": "2020-09-18T03:54:02.446023Z",
     "start_time": "2020-09-18T03:54:02.441048Z"
    }
   },
   "outputs": [],
   "source": [
    "pulse_options = {\n",
    "    Ω_B_left: dict(lambda_a=1, update_shape=update_shape),\n",
    "    Ω_B_right: dict(lambda_a=1, update_shape=update_shape),\n",
    "}"
   ]
  },
  {
   "cell_type": "code",
   "execution_count": null,
   "metadata": {
    "ExecuteTime": {
     "end_time": "2020-09-18T04:00:34.233083Z",
     "start_time": "2020-09-18T03:56:44.949264Z"
    }
   },
   "outputs": [],
   "source": [
    "res_opt = krotov.optimize_pulses(\n",
    "    objectives,\n",
    "    pulse_options,\n",
    "    tlist,\n",
    "    propagator=krotov.propagators.expm,\n",
    "    chi_constructor=krotov.functionals.chis_sm,\n",
    "    info_hook=krotov.info_hooks.print_table(J_T=krotov.functionals.J_T_sm),\n",
    ")"
   ]
  }
 ],
 "metadata": {
  "hide_input": false,
  "kernelspec": {
   "display_name": "Python 3",
   "language": "python",
   "name": "python3"
  },
  "language_info": {
   "codemirror_mode": {
    "name": "ipython",
    "version": 3
   },
   "file_extension": ".py",
   "mimetype": "text/x-python",
   "name": "python",
   "nbconvert_exporter": "python",
   "pygments_lexer": "ipython3",
   "version": "3.8.5"
  },
  "toc": {
   "base_numbering": 1,
   "nav_menu": {},
   "number_sections": true,
   "sideBar": true,
   "skip_h1_title": false,
   "title_cell": "Table of Contents",
   "title_sidebar": "Contents",
   "toc_cell": false,
   "toc_position": {},
   "toc_section_display": true,
   "toc_window_display": false
  },
  "varInspector": {
   "cols": {
    "lenName": 16,
    "lenType": 16,
    "lenVar": 40
   },
   "kernels_config": {
    "python": {
     "delete_cmd_postfix": "",
     "delete_cmd_prefix": "del ",
     "library": "var_list.py",
     "varRefreshCmd": "print(var_dic_list())"
    },
    "r": {
     "delete_cmd_postfix": ") ",
     "delete_cmd_prefix": "rm(",
     "library": "var_list.r",
     "varRefreshCmd": "cat(var_dic_list()) "
    }
   },
   "types_to_exclude": [
    "module",
    "function",
    "builtin_function_or_method",
    "instance",
    "_Feature"
   ],
   "window_display": false
  }
 },
 "nbformat": 4,
 "nbformat_minor": 4
}
