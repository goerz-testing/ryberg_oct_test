{
 "cells": [
  {
   "cell_type": "code",
   "execution_count": 1,
   "metadata": {
    "ExecuteTime": {
     "end_time": "2020-09-18T02:30:20.702176Z",
     "start_time": "2020-09-18T02:30:19.017259Z"
    }
   },
   "outputs": [],
   "source": [
    "import qutip\n",
    "import krotov"
   ]
  },
  {
   "cell_type": "code",
   "execution_count": 2,
   "metadata": {
    "ExecuteTime": {
     "end_time": "2020-09-18T02:30:20.711173Z",
     "start_time": "2020-09-18T02:30:20.704360Z"
    }
   },
   "outputs": [
    {
     "data": {
      "text/plain": [
       "'4.5.2'"
      ]
     },
     "execution_count": 2,
     "metadata": {},
     "output_type": "execute_result"
    }
   ],
   "source": [
    "qutip.__version__"
   ]
  },
  {
   "cell_type": "code",
   "execution_count": 3,
   "metadata": {
    "ExecuteTime": {
     "end_time": "2020-09-18T02:30:20.718678Z",
     "start_time": "2020-09-18T02:30:20.713969Z"
    }
   },
   "outputs": [],
   "source": [
    "import matplotlib.pylab as plt"
   ]
  },
  {
   "cell_type": "code",
   "execution_count": 4,
   "metadata": {
    "ExecuteTime": {
     "end_time": "2020-09-18T02:30:20.724846Z",
     "start_time": "2020-09-18T02:30:20.721573Z"
    }
   },
   "outputs": [],
   "source": [
    "import numpy as np"
   ]
  },
  {
   "cell_type": "code",
   "execution_count": 5,
   "metadata": {
    "ExecuteTime": {
     "end_time": "2020-09-18T02:30:20.732641Z",
     "start_time": "2020-09-18T02:30:20.728940Z"
    }
   },
   "outputs": [],
   "source": [
    "%matplotlib inline"
   ]
  },
  {
   "cell_type": "markdown",
   "metadata": {},
   "source": [
    "This example follows Goerz et al., Phys. Rev. A 90, 032329 (2014)"
   ]
  },
  {
   "cell_type": "markdown",
   "metadata": {},
   "source": [
    "## Rydberg Atom States"
   ]
  },
  {
   "cell_type": "markdown",
   "metadata": {},
   "source": [
    "$\\newcommand{\\ket}[1]{\\vert#1\\rangle}$"
   ]
  },
  {
   "cell_type": "markdown",
   "metadata": {
    "ExecuteTime": {
     "end_time": "2020-09-18T03:21:34.097425Z",
     "start_time": "2020-09-18T03:21:34.091676Z"
    }
   },
   "source": [
    "The Hilbert space for the Rydberg atom consists of the states $\\ket{0}$, $\\ket{1}$, $\\ket{i}$ (intermediary state) and $\\ket{r}$ (Rydberg state)"
   ]
  },
  {
   "cell_type": "code",
   "execution_count": 78,
   "metadata": {
    "ExecuteTime": {
     "end_time": "2020-09-18T03:25:05.263748Z",
     "start_time": "2020-09-18T03:25:05.259189Z"
    }
   },
   "outputs": [],
   "source": [
    "def ket(labels):\n",
    "    \"\"\"Eigenstate of one or more Rydberg atoms.\n",
    "    \n",
    "    Args:\n",
    "        labels (str): labels\n",
    "        \n",
    "    For example, `ket('i')` describes the state |i⟩ of a single atom and\n",
    "    `ket('rr')` describes the state |r⟩⊗|r⟩ of two atoms.\n",
    "    \"\"\"\n",
    "    levels = ['0', '1', 'i', 'r']\n",
    "    states = []\n",
    "    N = len(levels)\n",
    "    for label in str(labels):\n",
    "        states.append(qutip.basis(N, levels.index(label)))\n",
    "    return qutip.tensor(*states)"
   ]
  },
  {
   "cell_type": "code",
   "execution_count": 10,
   "metadata": {
    "ExecuteTime": {
     "end_time": "2020-09-18T02:30:20.952202Z",
     "start_time": "2020-09-18T02:30:20.942432Z"
    }
   },
   "outputs": [
    {
     "data": {
      "text/latex": [
       "Quantum object: dims = [[4, 4], [1, 1]], shape = (16, 1), type = ket\\begin{equation*}\\left(\\begin{array}{*{11}c}1.0\\\\0.0\\\\0.0\\\\0.0\\\\0.0\\\\\\vdots\\\\0.0\\\\0.0\\\\0.0\\\\0.0\\\\0.0\\\\\\end{array}\\right)\\end{equation*}"
      ],
      "text/plain": [
       "Quantum object: dims = [[4, 4], [1, 1]], shape = (16, 1), type = ket\n",
       "Qobj data =\n",
       "[[1.]\n",
       " [0.]\n",
       " [0.]\n",
       " [0.]\n",
       " [0.]\n",
       " [0.]\n",
       " [0.]\n",
       " [0.]\n",
       " [0.]\n",
       " [0.]\n",
       " [0.]\n",
       " [0.]\n",
       " [0.]\n",
       " [0.]\n",
       " [0.]\n",
       " [0.]]"
      ]
     },
     "execution_count": 10,
     "metadata": {},
     "output_type": "execute_result"
    }
   ],
   "source": [
    "ket('00')"
   ]
  },
  {
   "cell_type": "code",
   "execution_count": 11,
   "metadata": {
    "ExecuteTime": {
     "end_time": "2020-09-18T02:30:20.963856Z",
     "start_time": "2020-09-18T02:30:20.954514Z"
    }
   },
   "outputs": [
    {
     "data": {
      "text/latex": [
       "Quantum object: dims = [[4, 4], [1, 1]], shape = (16, 1), type = ket\\begin{equation*}\\left(\\begin{array}{*{11}c}0.0\\\\0.0\\\\0.0\\\\1.0\\\\0.0\\\\\\vdots\\\\0.0\\\\0.0\\\\0.0\\\\0.0\\\\0.0\\\\\\end{array}\\right)\\end{equation*}"
      ],
      "text/plain": [
       "Quantum object: dims = [[4, 4], [1, 1]], shape = (16, 1), type = ket\n",
       "Qobj data =\n",
       "[[0.]\n",
       " [0.]\n",
       " [0.]\n",
       " [1.]\n",
       " [0.]\n",
       " [0.]\n",
       " [0.]\n",
       " [0.]\n",
       " [0.]\n",
       " [0.]\n",
       " [0.]\n",
       " [0.]\n",
       " [0.]\n",
       " [0.]\n",
       " [0.]\n",
       " [0.]]"
      ]
     },
     "execution_count": 11,
     "metadata": {},
     "output_type": "execute_result"
    }
   ],
   "source": [
    "ket('0r')"
   ]
  },
  {
   "cell_type": "markdown",
   "metadata": {},
   "source": [
    "## Hamiltonian"
   ]
  },
  {
   "cell_type": "code",
   "execution_count": 12,
   "metadata": {
    "ExecuteTime": {
     "end_time": "2020-09-18T02:30:20.970206Z",
     "start_time": "2020-09-18T02:30:20.966227Z"
    }
   },
   "outputs": [],
   "source": [
    "def _H0_1q(E1, Δ1, Δ2):\n",
    "    return qutip.Qobj(np.diag([0, E1, Δ1, Δ2]))"
   ]
  },
  {
   "cell_type": "code",
   "execution_count": 13,
   "metadata": {
    "ExecuteTime": {
     "end_time": "2020-09-18T02:30:20.976342Z",
     "start_time": "2020-09-18T02:30:20.972438Z"
    }
   },
   "outputs": [],
   "source": [
    "GHz = 2 * np.pi\n",
    "MHz = 1e-3 * GHz\n",
    "ns = 1"
   ]
  },
  {
   "cell_type": "code",
   "execution_count": 14,
   "metadata": {
    "ExecuteTime": {
     "end_time": "2020-09-18T02:30:20.984037Z",
     "start_time": "2020-09-18T02:30:20.978365Z"
    }
   },
   "outputs": [],
   "source": [
    "H0_1q = _H0_1q(E1=(9.1 * GHz), Δ1=(1.273 * GHz), Δ2=0)"
   ]
  },
  {
   "cell_type": "code",
   "execution_count": 15,
   "metadata": {
    "ExecuteTime": {
     "end_time": "2020-09-18T02:30:20.990440Z",
     "start_time": "2020-09-18T02:30:20.986620Z"
    }
   },
   "outputs": [],
   "source": [
    "Id = qutip.identity(4)"
   ]
  },
  {
   "cell_type": "code",
   "execution_count": 16,
   "metadata": {
    "ExecuteTime": {
     "end_time": "2020-09-18T02:30:20.996209Z",
     "start_time": "2020-09-18T02:30:20.992887Z"
    }
   },
   "outputs": [],
   "source": [
    "def _H_int(u):\n",
    "    return u * ket('rr') * ket('rr').dag()"
   ]
  },
  {
   "cell_type": "code",
   "execution_count": 17,
   "metadata": {
    "ExecuteTime": {
     "end_time": "2020-09-18T02:30:21.004583Z",
     "start_time": "2020-09-18T02:30:20.998594Z"
    }
   },
   "outputs": [],
   "source": [
    "H_int = _H_int(57.26 * MHz)"
   ]
  },
  {
   "cell_type": "code",
   "execution_count": 18,
   "metadata": {
    "ExecuteTime": {
     "end_time": "2020-09-18T02:30:21.013122Z",
     "start_time": "2020-09-18T02:30:21.006803Z"
    }
   },
   "outputs": [],
   "source": [
    "H0 = qutip.tensor(H0_1q, Id) + qutip.tensor(Id, H0_1q) + H_int"
   ]
  },
  {
   "cell_type": "code",
   "execution_count": 19,
   "metadata": {
    "ExecuteTime": {
     "end_time": "2020-09-18T02:30:21.030764Z",
     "start_time": "2020-09-18T02:30:21.015634Z"
    }
   },
   "outputs": [
    {
     "data": {
      "text/latex": [
       "Quantum object: dims = [[4, 4], [4, 4]], shape = (16, 16), type = oper, isherm = True\\begin{equation*}\\left(\\begin{array}{*{11}c}0.0 & 0.0 & 0.0 & 0.0 & 0.0 & \\cdots & 0.0 & 0.0 & 0.0 & 0.0 & 0.0\\\\0.0 & 57.177 & 0.0 & 0.0 & 0.0 & \\cdots & 0.0 & 0.0 & 0.0 & 0.0 & 0.0\\\\0.0 & 0.0 & 7.998 & 0.0 & 0.0 & \\cdots & 0.0 & 0.0 & 0.0 & 0.0 & 0.0\\\\0.0 & 0.0 & 0.0 & 0.0 & 0.0 & \\cdots & 0.0 & 0.0 & 0.0 & 0.0 & 0.0\\\\0.0 & 0.0 & 0.0 & 0.0 & 57.177 & \\cdots & 0.0 & 0.0 & 0.0 & 0.0 & 0.0\\\\\\vdots & \\vdots & \\vdots & \\vdots & \\vdots & \\ddots & \\vdots & \\vdots & \\vdots & \\vdots & \\vdots\\\\0.0 & 0.0 & 0.0 & 0.0 & 0.0 & \\cdots & 7.998 & 0.0 & 0.0 & 0.0 & 0.0\\\\0.0 & 0.0 & 0.0 & 0.0 & 0.0 & \\cdots & 0.0 & 0.0 & 0.0 & 0.0 & 0.0\\\\0.0 & 0.0 & 0.0 & 0.0 & 0.0 & \\cdots & 0.0 & 0.0 & 57.177 & 0.0 & 0.0\\\\0.0 & 0.0 & 0.0 & 0.0 & 0.0 & \\cdots & 0.0 & 0.0 & 0.0 & 7.998 & 0.0\\\\0.0 & 0.0 & 0.0 & 0.0 & 0.0 & \\cdots & 0.0 & 0.0 & 0.0 & 0.0 & 0.360\\\\\\end{array}\\right)\\end{equation*}"
      ],
      "text/plain": [
       "Quantum object: dims = [[4, 4], [4, 4]], shape = (16, 16), type = oper, isherm = True\n",
       "Qobj data =\n",
       "[[  0.           0.           0.           0.           0.\n",
       "    0.           0.           0.           0.           0.\n",
       "    0.           0.           0.           0.           0.\n",
       "    0.        ]\n",
       " [  0.          57.1769863    0.           0.           0.\n",
       "    0.           0.           0.           0.           0.\n",
       "    0.           0.           0.           0.           0.\n",
       "    0.        ]\n",
       " [  0.           0.           7.9984949    0.           0.\n",
       "    0.           0.           0.           0.           0.\n",
       "    0.           0.           0.           0.           0.\n",
       "    0.        ]\n",
       " [  0.           0.           0.           0.           0.\n",
       "    0.           0.           0.           0.           0.\n",
       "    0.           0.           0.           0.           0.\n",
       "    0.        ]\n",
       " [  0.           0.           0.           0.          57.1769863\n",
       "    0.           0.           0.           0.           0.\n",
       "    0.           0.           0.           0.           0.\n",
       "    0.        ]\n",
       " [  0.           0.           0.           0.           0.\n",
       "  114.35397259   0.           0.           0.           0.\n",
       "    0.           0.           0.           0.           0.\n",
       "    0.        ]\n",
       " [  0.           0.           0.           0.           0.\n",
       "    0.          65.17548119   0.           0.           0.\n",
       "    0.           0.           0.           0.           0.\n",
       "    0.        ]\n",
       " [  0.           0.           0.           0.           0.\n",
       "    0.           0.          57.1769863    0.           0.\n",
       "    0.           0.           0.           0.           0.\n",
       "    0.        ]\n",
       " [  0.           0.           0.           0.           0.\n",
       "    0.           0.           0.           7.9984949    0.\n",
       "    0.           0.           0.           0.           0.\n",
       "    0.        ]\n",
       " [  0.           0.           0.           0.           0.\n",
       "    0.           0.           0.           0.          65.17548119\n",
       "    0.           0.           0.           0.           0.\n",
       "    0.        ]\n",
       " [  0.           0.           0.           0.           0.\n",
       "    0.           0.           0.           0.           0.\n",
       "   15.99698979   0.           0.           0.           0.\n",
       "    0.        ]\n",
       " [  0.           0.           0.           0.           0.\n",
       "    0.           0.           0.           0.           0.\n",
       "    0.           7.9984949    0.           0.           0.\n",
       "    0.        ]\n",
       " [  0.           0.           0.           0.           0.\n",
       "    0.           0.           0.           0.           0.\n",
       "    0.           0.           0.           0.           0.\n",
       "    0.        ]\n",
       " [  0.           0.           0.           0.           0.\n",
       "    0.           0.           0.           0.           0.\n",
       "    0.           0.           0.          57.1769863    0.\n",
       "    0.        ]\n",
       " [  0.           0.           0.           0.           0.\n",
       "    0.           0.           0.           0.           0.\n",
       "    0.           0.           0.           0.           7.9984949\n",
       "    0.        ]\n",
       " [  0.           0.           0.           0.           0.\n",
       "    0.           0.           0.           0.           0.\n",
       "    0.           0.           0.           0.           0.\n",
       "    0.35977519]]"
      ]
     },
     "execution_count": 19,
     "metadata": {},
     "output_type": "execute_result"
    }
   ],
   "source": [
    "H0"
   ]
  },
  {
   "cell_type": "code",
   "execution_count": 20,
   "metadata": {
    "ExecuteTime": {
     "end_time": "2020-09-18T02:30:21.039988Z",
     "start_time": "2020-09-18T02:30:21.033351Z"
    }
   },
   "outputs": [],
   "source": [
    "H_1B = ket('0') * ket('i').dag() + ket('i') * ket('0').dag()\n",
    "H_1R = ket('i') * ket('r').dag() + ket('r') * ket('i').dag()"
   ]
  },
  {
   "cell_type": "code",
   "execution_count": 21,
   "metadata": {
    "ExecuteTime": {
     "end_time": "2020-09-18T02:30:21.047480Z",
     "start_time": "2020-09-18T02:30:21.042794Z"
    }
   },
   "outputs": [],
   "source": [
    "H_B_left = qutip.tensor(H_1B, Id)\n",
    "H_B_right = qutip.tensor(Id, H_1B) \n",
    "H_R_left = qutip.tensor(H_1R, Id)\n",
    "H_R_right = qutip.tensor(Id, H_1R) "
   ]
  },
  {
   "cell_type": "code",
   "execution_count": 22,
   "metadata": {
    "ExecuteTime": {
     "end_time": "2020-09-18T02:30:21.062392Z",
     "start_time": "2020-09-18T02:30:21.050069Z"
    }
   },
   "outputs": [
    {
     "data": {
      "text/latex": [
       "Quantum object: dims = [[4, 4], [4, 4]], shape = (16, 16), type = oper, isherm = True\\begin{equation*}\\left(\\begin{array}{*{11}c}0.0 & 0.0 & 0.0 & 0.0 & 0.0 & \\cdots & 0.0 & 0.0 & 0.0 & 0.0 & 0.0\\\\0.0 & 0.0 & 0.0 & 0.0 & 0.0 & \\cdots & 0.0 & 0.0 & 0.0 & 0.0 & 0.0\\\\0.0 & 0.0 & 0.0 & 0.0 & 0.0 & \\cdots & 0.0 & 0.0 & 0.0 & 0.0 & 0.0\\\\0.0 & 0.0 & 0.0 & 0.0 & 0.0 & \\cdots & 1.0 & 0.0 & 0.0 & 0.0 & 0.0\\\\0.0 & 0.0 & 0.0 & 0.0 & 0.0 & \\cdots & 0.0 & 0.0 & 0.0 & 0.0 & 0.0\\\\\\vdots & \\vdots & \\vdots & \\vdots & \\vdots & \\ddots & \\vdots & \\vdots & \\vdots & \\vdots & \\vdots\\\\0.0 & 0.0 & 0.0 & 1.0 & 0.0 & \\cdots & 0.0 & 0.0 & 0.0 & 0.0 & 0.0\\\\0.0 & 0.0 & 0.0 & 0.0 & 0.0 & \\cdots & 0.0 & 0.0 & 0.0 & 0.0 & 0.0\\\\0.0 & 0.0 & 0.0 & 0.0 & 0.0 & \\cdots & 0.0 & 0.0 & 0.0 & 0.0 & 0.0\\\\0.0 & 0.0 & 0.0 & 0.0 & 0.0 & \\cdots & 0.0 & 0.0 & 0.0 & 0.0 & 0.0\\\\0.0 & 0.0 & 0.0 & 0.0 & 0.0 & \\cdots & 0.0 & 0.0 & 0.0 & 0.0 & 0.0\\\\\\end{array}\\right)\\end{equation*}"
      ],
      "text/plain": [
       "Quantum object: dims = [[4, 4], [4, 4]], shape = (16, 16), type = oper, isherm = True\n",
       "Qobj data =\n",
       "[[0. 0. 0. 0. 0. 0. 0. 0. 1. 0. 0. 0. 0. 0. 0. 0.]\n",
       " [0. 0. 0. 0. 0. 0. 0. 0. 0. 1. 0. 0. 0. 0. 0. 0.]\n",
       " [0. 0. 0. 0. 0. 0. 0. 0. 0. 0. 1. 0. 0. 0. 0. 0.]\n",
       " [0. 0. 0. 0. 0. 0. 0. 0. 0. 0. 0. 1. 0. 0. 0. 0.]\n",
       " [0. 0. 0. 0. 0. 0. 0. 0. 0. 0. 0. 0. 0. 0. 0. 0.]\n",
       " [0. 0. 0. 0. 0. 0. 0. 0. 0. 0. 0. 0. 0. 0. 0. 0.]\n",
       " [0. 0. 0. 0. 0. 0. 0. 0. 0. 0. 0. 0. 0. 0. 0. 0.]\n",
       " [0. 0. 0. 0. 0. 0. 0. 0. 0. 0. 0. 0. 0. 0. 0. 0.]\n",
       " [1. 0. 0. 0. 0. 0. 0. 0. 0. 0. 0. 0. 0. 0. 0. 0.]\n",
       " [0. 1. 0. 0. 0. 0. 0. 0. 0. 0. 0. 0. 0. 0. 0. 0.]\n",
       " [0. 0. 1. 0. 0. 0. 0. 0. 0. 0. 0. 0. 0. 0. 0. 0.]\n",
       " [0. 0. 0. 1. 0. 0. 0. 0. 0. 0. 0. 0. 0. 0. 0. 0.]\n",
       " [0. 0. 0. 0. 0. 0. 0. 0. 0. 0. 0. 0. 0. 0. 0. 0.]\n",
       " [0. 0. 0. 0. 0. 0. 0. 0. 0. 0. 0. 0. 0. 0. 0. 0.]\n",
       " [0. 0. 0. 0. 0. 0. 0. 0. 0. 0. 0. 0. 0. 0. 0. 0.]\n",
       " [0. 0. 0. 0. 0. 0. 0. 0. 0. 0. 0. 0. 0. 0. 0. 0.]]"
      ]
     },
     "execution_count": 22,
     "metadata": {},
     "output_type": "execute_result"
    }
   ],
   "source": [
    "H_B_left"
   ]
  },
  {
   "cell_type": "code",
   "execution_count": 23,
   "metadata": {
    "ExecuteTime": {
     "end_time": "2020-09-18T02:30:22.827294Z",
     "start_time": "2020-09-18T02:30:21.072367Z"
    },
    "scrolled": false
   },
   "outputs": [
    {
     "name": "stderr",
     "output_type": "stream",
     "text": [
      "/Users/goerz/Desktop/ryberg_oct_test/.venv/lib/python3.8/site-packages/qutip/visualization.py:323: UserWarning: FixedFormatter should only be used together with FixedLocator\n",
      "  ax.set_xticklabels(xlabels)\n",
      "/Users/goerz/Desktop/ryberg_oct_test/.venv/lib/python3.8/site-packages/qutip/visualization.py:331: UserWarning: FixedFormatter should only be used together with FixedLocator\n",
      "  ax.set_yticklabels(list(reversed(ylabels)))\n"
     ]
    },
    {
     "data": {
      "image/png": "[encoded data removed]",
      "text/plain": [
       "<Figure size 576x432 with 2 Axes>"
      ]
     },
     "metadata": {
      "needs_background": "light"
     },
     "output_type": "display_data"
    }
   ],
   "source": [
    "fig, ax = qutip.hinton(H_R_left)\n",
    "#fig.set_size_inches(16, 10)"
   ]
  },
  {
   "cell_type": "code",
   "execution_count": 24,
   "metadata": {
    "ExecuteTime": {
     "end_time": "2020-09-18T02:30:22.835720Z",
     "start_time": "2020-09-18T02:30:22.831830Z"
    }
   },
   "outputs": [],
   "source": [
    "def pulse_zero(t, args):\n",
    "    return 0.0"
   ]
  },
  {
   "cell_type": "code",
   "execution_count": 25,
   "metadata": {
    "ExecuteTime": {
     "end_time": "2020-09-18T02:30:22.841439Z",
     "start_time": "2020-09-18T02:30:22.838466Z"
    }
   },
   "outputs": [],
   "source": [
    "T = 800"
   ]
  },
  {
   "cell_type": "code",
   "execution_count": 26,
   "metadata": {
    "ExecuteTime": {
     "end_time": "2020-09-18T02:30:22.849343Z",
     "start_time": "2020-09-18T02:30:22.843818Z"
    }
   },
   "outputs": [],
   "source": [
    "tlist = np.linspace(0, T, 2000)"
   ]
  },
  {
   "cell_type": "code",
   "execution_count": 27,
   "metadata": {
    "ExecuteTime": {
     "end_time": "2020-09-18T02:30:22.858345Z",
     "start_time": "2020-09-18T02:30:22.852207Z"
    }
   },
   "outputs": [
    {
     "data": {
      "text/plain": [
       "array([0.000000e+00, 4.002001e-01, 8.004002e-01, ..., 7.991996e+02,\n",
       "       7.995998e+02, 8.000000e+02])"
      ]
     },
     "execution_count": 27,
     "metadata": {},
     "output_type": "execute_result"
    }
   ],
   "source": [
    "tlist"
   ]
  },
  {
   "cell_type": "code",
   "execution_count": 28,
   "metadata": {
    "ExecuteTime": {
     "end_time": "2020-09-18T02:30:22.865070Z",
     "start_time": "2020-09-18T02:30:22.860985Z"
    }
   },
   "outputs": [],
   "source": [
    "def Ω_B_left(t, args):\n",
    "    E0 = 140 * MHz\n",
    "    return (\n",
    "        E0 * krotov.shapes.blackman(t, 0, 50) +\n",
    "        E0 * krotov.shapes.blackman(t, T-50, T)\n",
    "    )"
   ]
  },
  {
   "cell_type": "code",
   "execution_count": 29,
   "metadata": {
    "ExecuteTime": {
     "end_time": "2020-09-18T02:30:22.872669Z",
     "start_time": "2020-09-18T02:30:22.868119Z"
    }
   },
   "outputs": [],
   "source": [
    "def Ω_B_right(t, args):\n",
    "    E0 = 55 * MHz\n",
    "    return E0 * krotov.shapes.blackman(t, 0, T)"
   ]
  },
  {
   "cell_type": "code",
   "execution_count": 30,
   "metadata": {
    "ExecuteTime": {
     "end_time": "2020-09-18T02:30:22.886726Z",
     "start_time": "2020-09-18T02:30:22.883223Z"
    }
   },
   "outputs": [],
   "source": [
    "Ω_R_left = Ω_B_left\n",
    "Ω_R_right = Ω_B_right"
   ]
  },
  {
   "cell_type": "code",
   "execution_count": 31,
   "metadata": {
    "ExecuteTime": {
     "end_time": "2020-09-18T02:30:22.895617Z",
     "start_time": "2020-09-18T02:30:22.889747Z"
    }
   },
   "outputs": [],
   "source": [
    "def plot_pulse(func, tlist, args=None, unit='MHz'):\n",
    "    fig, ax = plt.subplots()\n",
    "    vals = np.array([func(t, args) for t in tlist])\n",
    "    if unit == 'MHz':\n",
    "        vals /= MHz\n",
    "    elif unit == 'GHz':\n",
    "        vals /= GHz\n",
    "    else:\n",
    "        raise ValueError(\"Invalid unit\")\n",
    "    ax.plot(tlist, vals, label=func.__name__)\n",
    "    ax.set_xlabel('time (ns)')\n",
    "    ax.set_ylabel('amplitude (%s)' % unit)\n",
    "    ax.legend()\n",
    "    return fig, ax"
   ]
  },
  {
   "cell_type": "code",
   "execution_count": 32,
   "metadata": {
    "ExecuteTime": {
     "end_time": "2020-09-18T02:30:23.246075Z",
     "start_time": "2020-09-18T02:30:22.899343Z"
    }
   },
   "outputs": [
    {
     "data": {
      "image/png": "[encoded data removed]",
      "text/plain": [
       "<Figure size 432x288 with 1 Axes>"
      ]
     },
     "metadata": {
      "needs_background": "light"
     },
     "output_type": "display_data"
    }
   ],
   "source": [
    "plot_pulse(Ω_B_left, tlist);"
   ]
  },
  {
   "cell_type": "code",
   "execution_count": 33,
   "metadata": {
    "ExecuteTime": {
     "end_time": "2020-09-18T02:30:23.469349Z",
     "start_time": "2020-09-18T02:30:23.248300Z"
    }
   },
   "outputs": [
    {
     "data": {
      "image/png": "[encoded data removed]",
      "text/plain": [
       "<Figure size 432x288 with 1 Axes>"
      ]
     },
     "metadata": {
      "needs_background": "light"
     },
     "output_type": "display_data"
    }
   ],
   "source": [
    "plot_pulse(Ω_B_right, tlist);"
   ]
  },
  {
   "cell_type": "code",
   "execution_count": 34,
   "metadata": {
    "ExecuteTime": {
     "end_time": "2020-09-18T02:30:23.474439Z",
     "start_time": "2020-09-18T02:30:23.471274Z"
    }
   },
   "outputs": [],
   "source": [
    "H = [H0, [H_B_left, Ω_B_left], [H_B_right, Ω_B_right], [H_R_left, Ω_R_left], [H_R_right, Ω_R_left]] "
   ]
  },
  {
   "cell_type": "markdown",
   "metadata": {},
   "source": [
    "## Propagation"
   ]
  },
  {
   "cell_type": "code",
   "execution_count": 35,
   "metadata": {
    "ExecuteTime": {
     "end_time": "2020-09-18T02:30:44.700479Z",
     "start_time": "2020-09-18T02:30:23.476748Z"
    }
   },
   "outputs": [],
   "source": [
    "res = qutip.mesolve(H, ket('00'), tlist)"
   ]
  },
  {
   "cell_type": "code",
   "execution_count": 36,
   "metadata": {
    "ExecuteTime": {
     "end_time": "2020-09-18T02:30:44.707114Z",
     "start_time": "2020-09-18T02:30:44.702572Z"
    }
   },
   "outputs": [],
   "source": [
    "def amplitude(state, level):\n",
    "    return complex((ket(level).dag() * state).full())"
   ]
  },
  {
   "cell_type": "code",
   "execution_count": 37,
   "metadata": {
    "ExecuteTime": {
     "end_time": "2020-09-18T02:30:44.714664Z",
     "start_time": "2020-09-18T02:30:44.709769Z"
    }
   },
   "outputs": [],
   "source": [
    "def phase(state, level):\n",
    "    a = amplitude(state, level)\n",
    "    return np.angle(a)"
   ]
  },
  {
   "cell_type": "code",
   "execution_count": 38,
   "metadata": {
    "ExecuteTime": {
     "end_time": "2020-09-18T02:30:44.721099Z",
     "start_time": "2020-09-18T02:30:44.717156Z"
    }
   },
   "outputs": [],
   "source": [
    "def pop(state, level):\n",
    "    a = amplitude(state, level)\n",
    "    return abs(a)**2"
   ]
  },
  {
   "cell_type": "code",
   "execution_count": 39,
   "metadata": {
    "ExecuteTime": {
     "end_time": "2020-09-18T02:30:44.728065Z",
     "start_time": "2020-09-18T02:30:44.723917Z"
    }
   },
   "outputs": [],
   "source": [
    "def pops(res, level):\n",
    "    return np.array([pop(state, level) for state in res.states])"
   ]
  },
  {
   "cell_type": "code",
   "execution_count": 40,
   "metadata": {
    "ExecuteTime": {
     "end_time": "2020-09-18T02:30:44.735230Z",
     "start_time": "2020-09-18T02:30:44.730528Z"
    }
   },
   "outputs": [],
   "source": [
    "def phases(res, level):\n",
    "    return np.array([phase(state, level) for state in res.states])"
   ]
  },
  {
   "cell_type": "code",
   "execution_count": 41,
   "metadata": {
    "ExecuteTime": {
     "end_time": "2020-09-18T02:30:44.743343Z",
     "start_time": "2020-09-18T02:30:44.737706Z"
    }
   },
   "outputs": [],
   "source": [
    "def plot_pops(res, labels):\n",
    "    fig, ax = plt.subplots()\n",
    "    for label in labels:\n",
    "        ax.plot(res.times, pops(res, label), label=label)\n",
    "    ax.legend()\n",
    "    ax.set_xlabel('time (ns)')\n",
    "    ax.set_ylabel('population')\n",
    "    return fig, ax"
   ]
  },
  {
   "cell_type": "code",
   "execution_count": 42,
   "metadata": {
    "ExecuteTime": {
     "end_time": "2020-09-18T02:30:47.386976Z",
     "start_time": "2020-09-18T02:30:44.746550Z"
    }
   },
   "outputs": [
    {
     "data": {
      "image/png": "[encoded data removed]",
      "text/plain": [
       "<Figure size 432x288 with 1 Axes>"
      ]
     },
     "metadata": {
      "needs_background": "light"
     },
     "output_type": "display_data"
    }
   ],
   "source": [
    "plot_pops(res, ['00', 'i0', 'r0']);"
   ]
  },
  {
   "cell_type": "code",
   "execution_count": 43,
   "metadata": {
    "ExecuteTime": {
     "end_time": "2020-09-18T02:30:47.394411Z",
     "start_time": "2020-09-18T02:30:47.389302Z"
    }
   },
   "outputs": [],
   "source": [
    "def plot_phases(res, labels):\n",
    "    fig, ax = plt.subplots()\n",
    "    for label in labels:\n",
    "        ϕ = phases(res, label) / np.pi\n",
    "        ax.plot(res.times, ϕ, label=label)\n",
    "    ax.legend()\n",
    "    ax.set_xlabel('time (ns)')\n",
    "    ax.set_ylabel('phase (π)')\n",
    "    return fig, ax"
   ]
  },
  {
   "cell_type": "code",
   "execution_count": 44,
   "metadata": {
    "ExecuteTime": {
     "end_time": "2020-09-18T02:30:49.211165Z",
     "start_time": "2020-09-18T02:30:47.396586Z"
    }
   },
   "outputs": [
    {
     "data": {
      "image/png": "[encoded data removed]",
      "text/plain": [
       "<Figure size 432x288 with 1 Axes>"
      ]
     },
     "metadata": {
      "needs_background": "light"
     },
     "output_type": "display_data"
    }
   ],
   "source": [
    "plot_phases(res, ['00', 'r0']);"
   ]
  },
  {
   "cell_type": "markdown",
   "metadata": {},
   "source": [
    "## Gate"
   ]
  },
  {
   "cell_type": "code",
   "execution_count": 45,
   "metadata": {
    "ExecuteTime": {
     "end_time": "2020-09-18T02:30:49.217209Z",
     "start_time": "2020-09-18T02:30:49.213445Z"
    }
   },
   "outputs": [],
   "source": [
    "def propagate(label, H, tlist):\n",
    "    \"\"\"Propagate the state (by label) and return the resulting state at T.\"\"\"\n",
    "    psi0 = ket(label)\n",
    "    return qutip.mesolve(H, psi0, tlist).states[-1]"
   ]
  },
  {
   "cell_type": "code",
   "execution_count": 8,
   "metadata": {
    "ExecuteTime": {
     "end_time": "2020-09-18T02:30:20.931518Z",
     "start_time": "2020-09-18T02:30:20.928429Z"
    }
   },
   "outputs": [],
   "source": [
    "krotov.parallelization.set_parallelization(use_loky=True)"
   ]
  },
  {
   "cell_type": "code",
   "execution_count": 46,
   "metadata": {
    "ExecuteTime": {
     "end_time": "2020-09-18T02:34:39.481527Z",
     "start_time": "2020-09-18T02:30:49.219168Z"
    }
   },
   "outputs": [
    {
     "name": "stdout",
     "output_type": "stream",
     "text": [
      "25.0%. Run time:  57.40s. Est. time left: 00:00:02:52\n",
      "50.0%. Run time: 151.18s. Est. time left: 00:00:02:31\n",
      "75.0%. Run time: 152.04s. Est. time left: 00:00:00:50\n",
      "100.0%. Run time: 230.05s. Est. time left: 00:00:00:00\n",
      "Total run time: 230.26s\n"
     ]
    }
   ],
   "source": [
    "prop_states = krotov.parallelization.parallel_map(\n",
    "    propagate, ['00', '01', '10', '11'], task_kwargs=dict(H=H, tlist=tlist),\n",
    "    progress_bar=True\n",
    ")"
   ]
  },
  {
   "cell_type": "code",
   "execution_count": 48,
   "metadata": {
    "ExecuteTime": {
     "end_time": "2020-09-18T02:36:43.137721Z",
     "start_time": "2020-09-18T02:36:43.131409Z"
    }
   },
   "outputs": [],
   "source": [
    "basis_states = [ket(label) for label in ('00', '01', '10', '11')]"
   ]
  },
  {
   "cell_type": "code",
   "execution_count": 61,
   "metadata": {
    "ExecuteTime": {
     "end_time": "2020-09-18T03:09:21.344009Z",
     "start_time": "2020-09-18T03:09:21.338495Z"
    }
   },
   "outputs": [],
   "source": [
    "U = krotov.functionals.gate(basis_states, prop_states)"
   ]
  },
  {
   "cell_type": "code",
   "execution_count": 75,
   "metadata": {
    "ExecuteTime": {
     "end_time": "2020-09-18T03:18:45.262762Z",
     "start_time": "2020-09-18T03:18:45.255964Z"
    }
   },
   "outputs": [
    {
     "data": {
      "text/latex": [
       "Quantum object: dims = [[4, 4], [4, 4]], shape = (4, 4), type = oper, isherm = False\\begin{equation*}\\left(\\begin{array}{*{11}c}(-0.941-0.238j) & 0.0 & 0.0 & 0.0\\\\0.0 & (0.912-0.331j) & 0.0 & 0.0\\\\0.0 & 0.0 & (-0.950-0.314j) & 0.0\\\\0.0 & 0.0 & 0.0 & (0.973-0.232j)\\\\\\end{array}\\right)\\end{equation*}"
      ],
      "text/plain": [
       "Quantum object: dims = [[4, 4], [4, 4]], shape = (4, 4), type = oper, isherm = False\n",
       "Qobj data =\n",
       "[[-0.94072226-0.23841663j  0.        +0.j          0.        +0.j\n",
       "   0.        +0.j        ]\n",
       " [ 0.        +0.j          0.91231219-0.33092939j  0.        +0.j\n",
       "   0.        +0.j        ]\n",
       " [ 0.        +0.j          0.        +0.j         -0.94958281-0.31351424j\n",
       "   0.        +0.j        ]\n",
       " [ 0.        +0.j          0.        +0.j          0.        +0.j\n",
       "   0.97265433-0.23225751j]]"
      ]
     },
     "execution_count": 75,
     "metadata": {},
     "output_type": "execute_result"
    }
   ],
   "source": [
    "U"
   ]
  },
  {
   "cell_type": "code",
   "execution_count": 62,
   "metadata": {
    "ExecuteTime": {
     "end_time": "2020-09-18T03:09:23.859290Z",
     "start_time": "2020-09-18T03:09:23.855485Z"
    }
   },
   "outputs": [],
   "source": [
    "def pop_loss(U):\n",
    "    \"\"\"Loss of population from the logical subspace.\"\"\"\n",
    "    return 1 - (U.dag() * U).tr() / 4.0"
   ]
  },
  {
   "cell_type": "code",
   "execution_count": 63,
   "metadata": {
    "ExecuteTime": {
     "end_time": "2020-09-18T03:09:26.164599Z",
     "start_time": "2020-09-18T03:09:26.158956Z"
    }
   },
   "outputs": [
    {
     "data": {
      "text/plain": [
       "0.029093164678247296"
      ]
     },
     "execution_count": 63,
     "metadata": {},
     "output_type": "execute_result"
    }
   ],
   "source": [
    "pop_loss(U)"
   ]
  },
  {
   "cell_type": "code",
   "execution_count": 67,
   "metadata": {
    "ExecuteTime": {
     "end_time": "2020-09-18T03:13:12.286668Z",
     "start_time": "2020-09-18T03:13:12.282460Z"
    }
   },
   "outputs": [],
   "source": [
    "def closest_unitary(U):\n",
    "    V, Σ, Wdag = np.linalg.svd(U.full())\n",
    "    return qutip.Qobj(V @ Wdag)"
   ]
  },
  {
   "cell_type": "code",
   "execution_count": 69,
   "metadata": {
    "ExecuteTime": {
     "end_time": "2020-09-18T03:13:25.917684Z",
     "start_time": "2020-09-18T03:13:25.913159Z"
    }
   },
   "outputs": [],
   "source": [
    "Uu = closest_unitary(U)"
   ]
  },
  {
   "cell_type": "code",
   "execution_count": 76,
   "metadata": {
    "ExecuteTime": {
     "end_time": "2020-09-18T03:18:50.443073Z",
     "start_time": "2020-09-18T03:18:50.436640Z"
    }
   },
   "outputs": [
    {
     "data": {
      "text/latex": [
       "Quantum object: dims = [[4], [4]], shape = (4, 4), type = oper, isherm = False\\begin{equation*}\\left(\\begin{array}{*{11}c}(-0.969-0.246j) & 0.0 & 0.0 & 0.0\\\\0.0 & (0.940-0.341j) & 0.0 & 0.0\\\\0.0 & 0.0 & (-0.950-0.314j) & 0.0\\\\0.0 & 0.0 & 0.0 & (0.973-0.232j)\\\\\\end{array}\\right)\\end{equation*}"
      ],
      "text/plain": [
       "Quantum object: dims = [[4], [4]], shape = (4, 4), type = oper, isherm = False\n",
       "Qobj data =\n",
       "[[-0.96935282-0.24567276j  0.        +0.j          0.        +0.j\n",
       "   0.        +0.j        ]\n",
       " [ 0.        +0.j          0.94006466-0.34099624j  0.        +0.j\n",
       "   0.        +0.j        ]\n",
       " [ 0.        +0.j          0.        +0.j         -0.94958343-0.31351444j\n",
       "   0.        +0.j        ]\n",
       " [ 0.        +0.j          0.        +0.j          0.        +0.j\n",
       "   0.97265433-0.23225751j]]"
      ]
     },
     "execution_count": 76,
     "metadata": {},
     "output_type": "execute_result"
    }
   ],
   "source": [
    "Uu"
   ]
  },
  {
   "cell_type": "code",
   "execution_count": 73,
   "metadata": {
    "ExecuteTime": {
     "end_time": "2020-09-18T03:16:50.066558Z",
     "start_time": "2020-09-18T03:16:50.060753Z"
    }
   },
   "outputs": [],
   "source": [
    "def diag_concurrence(U):\n",
    "    \"\"\"Calculate the concurrence for a diagonal unitary U.\"\"\"\n",
    "    ϕ00, ϕ01, ϕ10, ϕ11 = np.angle(np.diag(U.full()))\n",
    "    γ = ϕ00 - ϕ01 - ϕ10 + ϕ11\n",
    "    return np.abs(np.sin(γ/2))"
   ]
  },
  {
   "cell_type": "code",
   "execution_count": 74,
   "metadata": {
    "ExecuteTime": {
     "end_time": "2020-09-18T03:16:54.811797Z",
     "start_time": "2020-09-18T03:16:54.806054Z"
    }
   },
   "outputs": [
    {
     "data": {
      "text/plain": [
       "0.021448493124935932"
      ]
     },
     "execution_count": 74,
     "metadata": {},
     "output_type": "execute_result"
    }
   ],
   "source": [
    "diag_concurrence(Uu)"
   ]
  }
 ],
 "metadata": {
  "hide_input": false,
  "kernelspec": {
   "display_name": "Python 3",
   "language": "python",
   "name": "python3"
  },
  "language_info": {
   "codemirror_mode": {
    "name": "ipython",
    "version": 3
   },
   "file_extension": ".py",
   "mimetype": "text/x-python",
   "name": "python",
   "nbconvert_exporter": "python",
   "pygments_lexer": "ipython3",
   "version": "3.8.5"
  },
  "toc": {
   "base_numbering": 1,
   "nav_menu": {
    "height": "40px",
    "width": "167px"
   },
   "number_sections": true,
   "sideBar": true,
   "skip_h1_title": false,
   "title_cell": "Table of Contents",
   "title_sidebar": "Contents",
   "toc_cell": false,
   "toc_position": {},
   "toc_section_display": true,
   "toc_window_display": false
  },
  "varInspector": {
   "cols": {
    "lenName": 16,
    "lenType": 16,
    "lenVar": 40
   },
   "kernels_config": {
    "python": {
     "delete_cmd_postfix": "",
     "delete_cmd_prefix": "del ",
     "library": "var_list.py",
     "varRefreshCmd": "print(var_dic_list())"
    },
    "r": {
     "delete_cmd_postfix": ") ",
     "delete_cmd_prefix": "rm(",
     "library": "var_list.r",
     "varRefreshCmd": "cat(var_dic_list()) "
    }
   },
   "types_to_exclude": [
    "module",
    "function",
    "builtin_function_or_method",
    "instance",
    "_Feature"
   ],
   "window_display": false
  }
 },
 "nbformat": 4,
 "nbformat_minor": 4
}
